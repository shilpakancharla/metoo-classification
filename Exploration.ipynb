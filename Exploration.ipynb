{
 "cells": [
  {
   "cell_type": "code",
   "execution_count": 19,
   "id": "60336b27",
   "metadata": {},
   "outputs": [],
   "source": [
    "import re\n",
    "import numpy as np\n",
    "import pandas as pd\n",
    "import matplotlib.pyplot as plt\n",
    "import seaborn as sns\n",
    "import warnings\n",
    "warnings.filterwarnings('ignore')\n",
    "from nltk.util import ngrams\n",
    "from nltk import everygrams\n",
    "\n",
    "# Import custom functions\n",
    "from explore import *"
   ]
  },
  {
   "cell_type": "code",
   "execution_count": 20,
   "id": "3a14ea92",
   "metadata": {},
   "outputs": [],
   "source": [
    "# Import cleaned dataset\n",
    "df = pd.read_csv('processed_data/clean_data.csv')"
   ]
  },
  {
   "cell_type": "code",
   "execution_count": 21,
   "id": "f008d07e",
   "metadata": {},
   "outputs": [
    {
     "data": {
      "text/plain": [
       "Tweet                       1830\n",
       "Years                          0\n",
       "Lemmatized                  3220\n",
       "Tweets with no Stopwords    6230\n",
       "Short Tweets                6893\n",
       "dtype: int64"
      ]
     },
     "execution_count": 21,
     "metadata": {},
     "output_type": "execute_result"
    }
   ],
   "source": [
    "df.isna().sum()"
   ]
  },
  {
   "cell_type": "code",
   "execution_count": 22,
   "id": "8cfc3c45",
   "metadata": {},
   "outputs": [
    {
     "data": {
      "text/plain": [
       "1048258"
      ]
     },
     "execution_count": 22,
     "metadata": {},
     "output_type": "execute_result"
    }
   ],
   "source": [
    "len(df)"
   ]
  },
  {
   "cell_type": "code",
   "execution_count": 5,
   "id": "382ab977",
   "metadata": {},
   "outputs": [
    {
     "data": {
      "text/html": [
       "<div>\n",
       "<style scoped>\n",
       "    .dataframe tbody tr th:only-of-type {\n",
       "        vertical-align: middle;\n",
       "    }\n",
       "\n",
       "    .dataframe tbody tr th {\n",
       "        vertical-align: top;\n",
       "    }\n",
       "\n",
       "    .dataframe thead th {\n",
       "        text-align: right;\n",
       "    }\n",
       "</style>\n",
       "<table border=\"1\" class=\"dataframe\">\n",
       "  <thead>\n",
       "    <tr style=\"text-align: right;\">\n",
       "      <th></th>\n",
       "      <th>Tweet</th>\n",
       "      <th>Years</th>\n",
       "      <th>Tweet Length</th>\n",
       "      <th>Lemmatized</th>\n",
       "      <th>Tweets with no Stopwords</th>\n",
       "      <th>Short Tweets</th>\n",
       "    </tr>\n",
       "  </thead>\n",
       "  <tbody>\n",
       "    <tr>\n",
       "      <th>0</th>\n",
       "      <td>oh man       in like flynn    what a crack up ...</td>\n",
       "      <td>2017</td>\n",
       "      <td>304</td>\n",
       "      <td>oh man in like flynn what a crack up #metoo #s...</td>\n",
       "      <td>oh man like flynn crack #metoo #sooriginal #ed...</td>\n",
       "      <td>man like flynn crack #metoo #sooriginal #edgy ...</td>\n",
       "    </tr>\n",
       "    <tr>\n",
       "      <th>1</th>\n",
       "      <td>ah     no   but i must admit                  ...</td>\n",
       "      <td>2017</td>\n",
       "      <td>375</td>\n",
       "      <td>ah no but i must admit #trumptrain #sweden htt...</td>\n",
       "      <td>ah must admit #trumptrain #sweden http co ckmy...</td>\n",
       "      <td>must admit #trumptrain #sweden http ckmynymtsk</td>\n",
       "    </tr>\n",
       "    <tr>\n",
       "      <th>2</th>\n",
       "      <td>most                                          ...</td>\n",
       "      <td>2017</td>\n",
       "      <td>283</td>\n",
       "      <td>most like for #metoo http t co en lcew x</td>\n",
       "      <td>like #metoo http co en lcew x</td>\n",
       "      <td>like #metoo http lcew</td>\n",
       "    </tr>\n",
       "    <tr>\n",
       "      <th>3</th>\n",
       "      <td>...</td>\n",
       "      <td>2017</td>\n",
       "      <td>283</td>\n",
       "      <td>that be #awesome #maga #break #fridayfeeling #...</td>\n",
       "      <td>#awesome #maga #break #fridayfeeling #roymoore...</td>\n",
       "      <td>#awesome #maga #break #fridayfeeling #roymoore...</td>\n",
       "    </tr>\n",
       "    <tr>\n",
       "      <th>4</th>\n",
       "      <td>thank        you                           ...</td>\n",
       "      <td>2017</td>\n",
       "      <td>306</td>\n",
       "      <td>thank you #metoo #silencebreakers https t co z...</td>\n",
       "      <td>thank #metoo #silencebreakers https co z xwbeocmk</td>\n",
       "      <td>thank #metoo #silencebreakers https xwbeocmk</td>\n",
       "    </tr>\n",
       "  </tbody>\n",
       "</table>\n",
       "</div>"
      ],
      "text/plain": [
       "                                               Tweet  Years  Tweet Length  \\\n",
       "0  oh man       in like flynn    what a crack up ...   2017           304   \n",
       "1  ah     no   but i must admit                  ...   2017           375   \n",
       "2  most                                          ...   2017           283   \n",
       "3                                                ...   2017           283   \n",
       "4     thank        you                           ...   2017           306   \n",
       "\n",
       "                                          Lemmatized  \\\n",
       "0  oh man in like flynn what a crack up #metoo #s...   \n",
       "1  ah no but i must admit #trumptrain #sweden htt...   \n",
       "2           most like for #metoo http t co en lcew x   \n",
       "3  that be #awesome #maga #break #fridayfeeling #...   \n",
       "4  thank you #metoo #silencebreakers https t co z...   \n",
       "\n",
       "                            Tweets with no Stopwords  \\\n",
       "0  oh man like flynn crack #metoo #sooriginal #ed...   \n",
       "1  ah must admit #trumptrain #sweden http co ckmy...   \n",
       "2                      like #metoo http co en lcew x   \n",
       "3  #awesome #maga #break #fridayfeeling #roymoore...   \n",
       "4  thank #metoo #silencebreakers https co z xwbeocmk   \n",
       "\n",
       "                                        Short Tweets  \n",
       "0  man like flynn crack #metoo #sooriginal #edgy ...  \n",
       "1     must admit #trumptrain #sweden http ckmynymtsk  \n",
       "2                              like #metoo http lcew  \n",
       "3  #awesome #maga #break #fridayfeeling #roymoore...  \n",
       "4       thank #metoo #silencebreakers https xwbeocmk  "
      ]
     },
     "execution_count": 5,
     "metadata": {},
     "output_type": "execute_result"
    }
   ],
   "source": [
    "df.head(5)"
   ]
  },
  {
   "cell_type": "code",
   "execution_count": 26,
   "id": "f1644b3c",
   "metadata": {},
   "outputs": [],
   "source": [
    "new_df = df.dropna()"
   ]
  },
  {
   "cell_type": "code",
   "execution_count": 27,
   "id": "a2529934",
   "metadata": {},
   "outputs": [
    {
     "data": {
      "text/plain": [
       "1041365"
      ]
     },
     "execution_count": 27,
     "metadata": {},
     "output_type": "execute_result"
    }
   ],
   "source": [
    "len(new_df)"
   ]
  },
  {
   "cell_type": "code",
   "execution_count": 31,
   "id": "77346c0d",
   "metadata": {},
   "outputs": [
    {
     "data": {
      "text/plain": [
       "Tweet                       0\n",
       "Years                       0\n",
       "Lemmatized                  0\n",
       "Tweets with no Stopwords    0\n",
       "Short Tweets                0\n",
       "dtype: int64"
      ]
     },
     "execution_count": 31,
     "metadata": {},
     "output_type": "execute_result"
    }
   ],
   "source": [
    "new_df.isna().sum()"
   ]
  },
  {
   "cell_type": "code",
   "execution_count": 28,
   "id": "39a73b35",
   "metadata": {},
   "outputs": [
    {
     "data": {
      "text/plain": [
       "286269"
      ]
     },
     "execution_count": 28,
     "metadata": {},
     "output_type": "execute_result"
    }
   ],
   "source": [
    "df_2017 = new_df.loc[df['Years'] == 2017]\n",
    "len(df_2017)"
   ]
  },
  {
   "cell_type": "code",
   "execution_count": 29,
   "id": "a4783b37",
   "metadata": {},
   "outputs": [
    {
     "data": {
      "text/plain": [
       "638897"
      ]
     },
     "execution_count": 29,
     "metadata": {},
     "output_type": "execute_result"
    }
   ],
   "source": [
    "df_2018 = new_df.loc[df['Years'] == 2018]\n",
    "len(df_2018)"
   ]
  },
  {
   "cell_type": "code",
   "execution_count": 30,
   "id": "347684f9",
   "metadata": {},
   "outputs": [
    {
     "data": {
      "text/plain": [
       "116199"
      ]
     },
     "execution_count": 30,
     "metadata": {},
     "output_type": "execute_result"
    }
   ],
   "source": [
    "df_2019 = new_df.loc[df['Years'] == 2019]\n",
    "len(df_2019)"
   ]
  },
  {
   "cell_type": "code",
   "execution_count": null,
   "id": "a25b0d6f",
   "metadata": {},
   "outputs": [],
   "source": []
  }
 ],
 "metadata": {
  "kernelspec": {
   "display_name": "Python 3",
   "language": "python",
   "name": "python3"
  },
  "language_info": {
   "codemirror_mode": {
    "name": "ipython",
    "version": 3
   },
   "file_extension": ".py",
   "mimetype": "text/x-python",
   "name": "python",
   "nbconvert_exporter": "python",
   "pygments_lexer": "ipython3",
   "version": "3.7.4"
  }
 },
 "nbformat": 4,
 "nbformat_minor": 5
}
