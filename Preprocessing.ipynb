{
 "cells": [
  {
   "cell_type": "code",
   "execution_count": 1,
   "id": "tropical-organizer",
   "metadata": {},
   "outputs": [],
   "source": [
    "import ssl\n",
    "import re\n",
    "import nltk\n",
    "import warnings\n",
    "import numpy as np\n",
    "import pandas as pd\n",
    "from nltk.corpus import stopwords\n",
    "warnings.filterwarnings('ignore')\n",
    "ssl._create_default_https_context = ssl._create_unverified_context\n",
    "\n",
    "# Import custom functions\n",
    "from modify_df import *\n",
    "from custom_regex import *"
   ]
  },
  {
   "cell_type": "markdown",
   "id": "forbidden-feedback",
   "metadata": {},
   "source": [
    "# Merging Datasets, Data Cleaning\n",
    "\n",
    "There are currently four different datasets we are using (along with some of their columns):\n",
    "\n",
    "| Oct 2017  | Nov 2017 - Dec 2017 | Sept 2018 - Feb 2019 | Oct 2019 |\n",
    "| --- | --- | --- | --- |\n",
    "| 350K | 390K | 695K | 15K |\n",
    "| id, date of tweet, text | text, favorited, created | text, location, created | text, language, created at |\n",
    "\n",
    "We want the date of the tweet and the text content of the tweet itself. We want to focus on tweets are in English."
   ]
  },
  {
   "cell_type": "code",
   "execution_count": 2,
   "id": "shared-virtue",
   "metadata": {},
   "outputs": [],
   "source": [
    "# Import the datasets\n",
    "df_oct17 = pd.read_csv('raw_data/oct2017.csv')\n",
    "df_novdec17 = pd.read_csv('raw_data/novdec17.csv')\n",
    "df_sept18feb19 = pd.read_csv('raw_data/sept2018feb2019.csv')\n",
    "df_oct19 = pd.read_csv('raw_data/oct2019.csv')\n",
    "\n",
    "# Drop columns from each dataframe as necessary\n",
    "df_oct17 = df_oct17.drop(columns = ['id', 'insertdate', 'twitterhandle', 'followers', 'hashtagsearched',\n",
    "                                   'tweetid', 'lastcontactdate', 'lasttimelinepull', 'lasttimetweetsanalyzed',\n",
    "                                   'numberoftweetsanalysed', 'numberoftweetsabouthash', 'actualtwitterdate'])\n",
    "df_oct17 = df_oct17.loc[:, ~df_oct17.columns.str.contains('^Unnamed')]\n",
    "df_oct17 = df_oct17.dropna()\n",
    "df_oct17 = df_oct17.reset_index()\n",
    "df_novdec17 = df_novdec17.drop(columns = ['favorited', 'favoriteCount', 'replyToSN', 'truncated', 'replyToSID',\n",
    "                                         'id', 'replyToUID', 'statusSource', 'screenName', 'retweetCount',\n",
    "                                         'isRetweet', 'retweeted', 'longitude', 'latitude'])\n",
    "df_novdec17 = df_novdec17.loc[:, ~df_novdec17.columns.str.contains('^Unnamed')]\n",
    "df_novdec17 = df_novdec17.dropna()\n",
    "df_novdec17 = df_novdec17.reset_index()\n",
    "df_sept18feb19 = df_sept18feb19.drop(columns = ['status_id', 'favorite_count', 'retweet_count', 'location',\n",
    "                                                'followers_count', 'friends_count', 'statuses_count', 'category'])\n",
    "df_sept18feb19 = df_sept18feb19.dropna()\n",
    "df_sept18feb19 = df_sept18feb19.reset_index()\n",
    "df_oct19 = df_oct19.drop(columns = ['Id', 'Lenght', 'Source', 'Favorite_count', 'Retweet_count'])\n",
    "df_oct19 = df_oct19[df_oct19['Lang'] == 'en']\n",
    "df_oct19 = df_oct19.drop(columns = ['Lang'])\n",
    "df_oct19 = df_oct19.dropna()\n",
    "df_oct19 = df_oct19.reset_index()"
   ]
  },
  {
   "cell_type": "code",
   "execution_count": 4,
   "id": "cellular-leader",
   "metadata": {},
   "outputs": [],
   "source": [
    "df_oct17 = get_oct17_data(df_oct17, 'dateoftweet')\n",
    "df_novdec17 = get_novdec17_data(df_novdec17, 'created')\n",
    "df_sept18feb19 = get_sept18feb19_data(df_sept18feb19, 'created_at')\n",
    "df_oct19 = get_oct19_data(df_oct19, 'Created_at')\n",
    "\n",
    "# Concatenate all frames\n",
    "data = pd.concat([df_oct17, df_novdec17, df_sept18feb19, df_oct19])\n",
    "data = data.reset_index()\n",
    "data = data.drop(columns = ['index'])"
   ]
  },
  {
   "cell_type": "markdown",
   "id": "incorporate-richards",
   "metadata": {},
   "source": [
    "We perform the following operations on the 'Text' column of the dataframe:\n",
    "* lowercase\n",
    "* duplicates (keeping duplicate tweets could lead to bias)\n",
    "* retweets\n",
    "* hyperlinks\n",
    "* emojis"
   ]
  },
  {
   "cell_type": "code",
   "execution_count": 5,
   "id": "innovative-participant",
   "metadata": {},
   "outputs": [
    {
     "ename": "TypeError",
     "evalue": "sub() missing 1 required positional argument: 'string'",
     "output_type": "error",
     "traceback": [
      "\u001b[0;31m---------------------------------------------------------------------------\u001b[0m",
      "\u001b[0;31mTypeError\u001b[0m                                 Traceback (most recent call last)",
      "\u001b[0;32m<ipython-input-5-311892a3f8e8>\u001b[0m in \u001b[0;36m<module>\u001b[0;34m\u001b[0m\n\u001b[1;32m      8\u001b[0m \u001b[0;34m\u001b[0m\u001b[0m\n\u001b[1;32m      9\u001b[0m \u001b[0;31m# Removing 'RT'\u001b[0m\u001b[0;34m\u001b[0m\u001b[0;34m\u001b[0m\u001b[0;34m\u001b[0m\u001b[0m\n\u001b[0;32m---> 10\u001b[0;31m \u001b[0mdata\u001b[0m\u001b[0;34m[\u001b[0m\u001b[0;34m'Tweet'\u001b[0m\u001b[0;34m]\u001b[0m \u001b[0;34m=\u001b[0m \u001b[0mdata\u001b[0m\u001b[0;34m[\u001b[0m\u001b[0;34m'Tweet'\u001b[0m\u001b[0;34m]\u001b[0m\u001b[0;34m.\u001b[0m\u001b[0mapply\u001b[0m\u001b[0;34m(\u001b[0m\u001b[0;32mlambda\u001b[0m \u001b[0mx\u001b[0m\u001b[0;34m:\u001b[0m \u001b[0mre\u001b[0m\u001b[0;34m.\u001b[0m\u001b[0msub\u001b[0m\u001b[0;34m(\u001b[0m\u001b[0;34mr'http://t(?!$)'\u001b[0m\u001b[0;34m,\u001b[0m \u001b[0mx\u001b[0m\u001b[0;34m)\u001b[0m \u001b[0;32mif\u001b[0m \u001b[0mtype\u001b[0m\u001b[0;34m(\u001b[0m\u001b[0mx\u001b[0m\u001b[0;34m)\u001b[0m \u001b[0;34m==\u001b[0m \u001b[0mstr\u001b[0m \u001b[0;32melse\u001b[0m \u001b[0mx\u001b[0m\u001b[0;34m)\u001b[0m\u001b[0;34m\u001b[0m\u001b[0;34m\u001b[0m\u001b[0m\n\u001b[0m",
      "\u001b[0;32m/usr/local/Cellar/jupyterlab/3.0.9/libexec/lib/python3.9/site-packages/pandas/core/series.py\u001b[0m in \u001b[0;36mapply\u001b[0;34m(self, func, convert_dtype, args, **kwds)\u001b[0m\n\u001b[1;32m   4136\u001b[0m             \u001b[0;32melse\u001b[0m\u001b[0;34m:\u001b[0m\u001b[0;34m\u001b[0m\u001b[0;34m\u001b[0m\u001b[0m\n\u001b[1;32m   4137\u001b[0m                 \u001b[0mvalues\u001b[0m \u001b[0;34m=\u001b[0m \u001b[0mself\u001b[0m\u001b[0;34m.\u001b[0m\u001b[0mastype\u001b[0m\u001b[0;34m(\u001b[0m\u001b[0mobject\u001b[0m\u001b[0;34m)\u001b[0m\u001b[0;34m.\u001b[0m\u001b[0m_values\u001b[0m\u001b[0;34m\u001b[0m\u001b[0;34m\u001b[0m\u001b[0m\n\u001b[0;32m-> 4138\u001b[0;31m                 \u001b[0mmapped\u001b[0m \u001b[0;34m=\u001b[0m \u001b[0mlib\u001b[0m\u001b[0;34m.\u001b[0m\u001b[0mmap_infer\u001b[0m\u001b[0;34m(\u001b[0m\u001b[0mvalues\u001b[0m\u001b[0;34m,\u001b[0m \u001b[0mf\u001b[0m\u001b[0;34m,\u001b[0m \u001b[0mconvert\u001b[0m\u001b[0;34m=\u001b[0m\u001b[0mconvert_dtype\u001b[0m\u001b[0;34m)\u001b[0m\u001b[0;34m\u001b[0m\u001b[0;34m\u001b[0m\u001b[0m\n\u001b[0m\u001b[1;32m   4139\u001b[0m \u001b[0;34m\u001b[0m\u001b[0m\n\u001b[1;32m   4140\u001b[0m         \u001b[0;32mif\u001b[0m \u001b[0mlen\u001b[0m\u001b[0;34m(\u001b[0m\u001b[0mmapped\u001b[0m\u001b[0;34m)\u001b[0m \u001b[0;32mand\u001b[0m \u001b[0misinstance\u001b[0m\u001b[0;34m(\u001b[0m\u001b[0mmapped\u001b[0m\u001b[0;34m[\u001b[0m\u001b[0;36m0\u001b[0m\u001b[0;34m]\u001b[0m\u001b[0;34m,\u001b[0m \u001b[0mSeries\u001b[0m\u001b[0;34m)\u001b[0m\u001b[0;34m:\u001b[0m\u001b[0;34m\u001b[0m\u001b[0;34m\u001b[0m\u001b[0m\n",
      "\u001b[0;32mpandas/_libs/lib.pyx\u001b[0m in \u001b[0;36mpandas._libs.lib.map_infer\u001b[0;34m()\u001b[0m\n",
      "\u001b[0;32m<ipython-input-5-311892a3f8e8>\u001b[0m in \u001b[0;36m<lambda>\u001b[0;34m(x)\u001b[0m\n\u001b[1;32m      8\u001b[0m \u001b[0;34m\u001b[0m\u001b[0m\n\u001b[1;32m      9\u001b[0m \u001b[0;31m# Removing 'RT'\u001b[0m\u001b[0;34m\u001b[0m\u001b[0;34m\u001b[0m\u001b[0;34m\u001b[0m\u001b[0m\n\u001b[0;32m---> 10\u001b[0;31m \u001b[0mdata\u001b[0m\u001b[0;34m[\u001b[0m\u001b[0;34m'Tweet'\u001b[0m\u001b[0;34m]\u001b[0m \u001b[0;34m=\u001b[0m \u001b[0mdata\u001b[0m\u001b[0;34m[\u001b[0m\u001b[0;34m'Tweet'\u001b[0m\u001b[0;34m]\u001b[0m\u001b[0;34m.\u001b[0m\u001b[0mapply\u001b[0m\u001b[0;34m(\u001b[0m\u001b[0;32mlambda\u001b[0m \u001b[0mx\u001b[0m\u001b[0;34m:\u001b[0m \u001b[0mre\u001b[0m\u001b[0;34m.\u001b[0m\u001b[0msub\u001b[0m\u001b[0;34m(\u001b[0m\u001b[0;34mr'http://t(?!$)'\u001b[0m\u001b[0;34m,\u001b[0m \u001b[0mx\u001b[0m\u001b[0;34m)\u001b[0m \u001b[0;32mif\u001b[0m \u001b[0mtype\u001b[0m\u001b[0;34m(\u001b[0m\u001b[0mx\u001b[0m\u001b[0;34m)\u001b[0m \u001b[0;34m==\u001b[0m \u001b[0mstr\u001b[0m \u001b[0;32melse\u001b[0m \u001b[0mx\u001b[0m\u001b[0;34m)\u001b[0m\u001b[0;34m\u001b[0m\u001b[0;34m\u001b[0m\u001b[0m\n\u001b[0m",
      "\u001b[0;31mTypeError\u001b[0m: sub() missing 1 required positional argument: 'string'"
     ]
    }
   ],
   "source": [
    "# Converting tweets to lowercase\n",
    "data['Tweet'] = data['Tweet'].apply(lambda x: x.lower() if type(x) == str else x)\n",
    "\n",
    "# Removing duplicates\n",
    "data = data.drop_duplicates(subset = 'Tweet', keep = 'first')\n",
    "data = data.reset_index()\n",
    "data = data.drop(columns = ['index'])\n",
    "\n",
    "# Removing 'RT'\n",
    "data['Tweet'] = data['Tweet'].apply(lambda x: re.sub(r'http://t(?!$)', '', x) if type(x) == str else x)\n",
    "data['Tweet'] = data['Tweet'].apply(lambda x: x.replace('rt ', '') if type(x) == str else x)\n",
    "data['Tweet'] = data['Tweet'].apply(lambda x: x.replace('rt', '') if type(x) == str else x)\n",
    "\n",
    "# Removing emojis\n",
    "data['Tweet'] = data['Tweet'].apply(lambda x: de_emojify(x) if type(x) == str else x)"
   ]
  },
  {
   "cell_type": "code",
   "execution_count": null,
   "id": "fossil-split",
   "metadata": {},
   "outputs": [],
   "source": []
  }
 ],
 "metadata": {
  "kernelspec": {
   "display_name": "Python 3",
   "language": "python",
   "name": "python3"
  },
  "language_info": {
   "codemirror_mode": {
    "name": "ipython",
    "version": 3
   },
   "file_extension": ".py",
   "mimetype": "text/x-python",
   "name": "python",
   "nbconvert_exporter": "python",
   "pygments_lexer": "ipython3",
   "version": "3.9.2"
  }
 },
 "nbformat": 4,
 "nbformat_minor": 5
}
