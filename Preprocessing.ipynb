{
 "cells": [
  {
   "cell_type": "code",
   "execution_count": 5,
   "id": "tropical-organizer",
   "metadata": {},
   "outputs": [],
   "source": [
    "import ssl\n",
    "import re\n",
    "import nltk\n",
    "import warnings\n",
    "import numpy as np\n",
    "import pandas as pd\n",
    "from nltk.corpus import stopwords\n",
    "warnings.filterwarnings('ignore')\n",
    "ssl._create_default_https_context = ssl._create_unverified_context"
   ]
  },
  {
   "cell_type": "markdown",
   "id": "forbidden-feedback",
   "metadata": {},
   "source": [
    "# Merging Datasets Together\n",
    "\n",
    "There are currently four different datasets we are using (along with some of their columns):\n",
    "\n",
    "| Oct 2017  | Nov 2017 - Dec 2017 | Sept 2018 - Feb 2019 | Oct 2019 |\n",
    "| --- | --- | --- | --- |\n",
    "| 350K | 390K | 695K | 15K |\n",
    "| id, date of tweet, text | text, favorited, created | text, location, created | text, language, created at |\n",
    "\n",
    "We want the date of the tweet and the text content of the tweet itself. We want to focus on tweets are in English."
   ]
  },
  {
   "cell_type": "code",
   "execution_count": 9,
   "id": "shared-virtue",
   "metadata": {},
   "outputs": [
    {
     "name": "stdout",
     "output_type": "stream",
     "text": [
      "                           dateoftweet  \\\n",
      "0       Thu Feb 08 22:36:52 +0000 2018   \n",
      "1       Thu Feb 08 22:36:52 +0000 2018   \n",
      "2       Thu Feb 08 22:37:00 +0000 2018   \n",
      "3       Thu Feb 08 22:37:02 +0000 2018   \n",
      "4       Thu Feb 08 22:37:11 +0000 2018   \n",
      "...                                ...   \n",
      "410641  Mon Oct 30 20:05:32 +0000 2017   \n",
      "410642  Mon Oct 30 20:05:37 +0000 2017   \n",
      "410643  Mon Oct 30 20:05:41 +0000 2017   \n",
      "410644  Mon Oct 30 20:05:44 +0000 2017   \n",
      "410645  Mon Oct 30 20:05:48 +0000 2017   \n",
      "\n",
      "                                                     text  \n",
      "0       RT @IxAmandaDelgado: @Navegaciones @FelipeCald...  \n",
      "1       RT @alexwitze: .@NSF will require institutions...  \n",
      "2       Listening to the awesome feminist scholar Cynt...  \n",
      "3       ??????????????????????????????????????????????...  \n",
      "4       RT @AlbertoBernalLe: ?A ver, donde est?n todas...  \n",
      "...                                                   ...  \n",
      "410641  RT @bre_stewart30: There is no easy way to tel...  \n",
      "410642  @floralbroadway Last week I posted I had been ...  \n",
      "410643  RT @EminaOkravi: @eric_hagberg__ sm?ller en tj...  \n",
      "410644  metoo#-I was sexually harassed from the time I...  \n",
      "410645  RT @carolinedehaas: A la manif, on trouve les ...  \n",
      "\n",
      "[410646 rows x 2 columns]\n"
     ]
    }
   ],
   "source": [
    "# Import the datasets\n",
    "df_oct17 = pd.read_csv('raw_data/oct2017.csv')\n",
    "df_novdec17 = pd.read_csv('raw_data/novdec17.csv')\n",
    "df_sept18feb19 = pd.read_csv('raw_data/sept2018feb2019.csv')\n",
    "df_oct19 = pd.read_csv('raw_data/oct2019.csv')\n",
    "\n",
    "# Drop columns from each dataframe as necessary\n",
    "df_oct17 = df_oct17.drop(columns = ['id', 'insertdate', 'twitterhandle', 'followers', 'hashtagsearched',\n",
    "                                   'tweetid', 'lastcontactdate', 'lasttimelinepull', 'lasttimetweetsanalyzed',\n",
    "                                   'numberoftweetsanalysed', 'numberoftweetsabouthash', 'actualtwitterdate'])\n",
    "df_oct17 = df_oct17.loc[:, ~df_oct17.columns.str.contains('^Unnamed')]\n",
    "df_novdec17 = df_novdec17.drop(columns = ['favorited', 'favoriteCount', 'replyToSN', 'truncated', 'replyToSID',\n",
    "                                         'id', 'replyToUID', 'statusSource', 'screenName', 'retweetCount',\n",
    "                                         'isRetweet', 'retweeted', 'longitude', 'latitude'])\n",
    "df_novdec17 = df_novdec17.loc[:, ~df_novdec17.columns.str.contains('^Unnamed')]\n",
    "df_sept18feb19 = df_sept18feb19.drop(columns = ['status_id', 'favorite_count', 'retweet_count', 'location',\n",
    "                                                'followers_count', 'friends_count', 'statuses_count', 'category'])\n",
    "df_oct19 = df_oct19.drop(columns = ['Id', 'Lenght', 'Source', 'Favorite_count', 'Retweet_count'])\n",
    "df_oct19 = df_oct19[df_oct19['Lang'] == 'en']\n",
    "df_oct19 = df_oct19.drop(columns = ['Lang'])"
   ]
  },
  {
   "cell_type": "code",
   "execution_count": 16,
   "id": "waiting-siemens",
   "metadata": {},
   "outputs": [
    {
     "name": "stdout",
     "output_type": "stream",
     "text": [
      "                                                    Text        Created_at  \\\n",
      "0       @Rightsatbirth: \"What he did was manipulative...  10/16/2019 22:33   \n",
      "1      Happy 94th Birthday\\0\\x9f\\x8e\\x82 to @_AngelaL...  10/16/2019 22:33   \n",
      "2       @RepLoriTrahan: Two years ago #MeToo woke up ...  10/16/2019 22:33   \n",
      "3       @RituG15: #TimesUp #MeTooVoter  #MenToo #Meto...  10/16/2019 22:33   \n",
      "4       @ambertamblyn: Months before MeToo broke us w...  10/16/2019 22:33   \n",
      "...                                                  ...               ...   \n",
      "15049  advocate4victim: #DYK: October 15 is the secon...  10/15/2019 17:46   \n",
      "15050  TaranaBurke: Tonight, on the anniversary of #m...  10/15/2019 17:46   \n",
      "15051  Meet Alki David: The self-appointed ambassador...  10/15/2019 17:46   \n",
      "15052  IreneWoodbury: 2\\x80\\x9cGreat Read2\\x806will l...  10/15/2019 17:46   \n",
      "15053  manny_ottawa: Canadians don2\\x80\\x99t TRUST Tr...  10/15/2019 17:46   \n",
      "\n",
      "      Lang  \n",
      "0       en  \n",
      "1       en  \n",
      "2       en  \n",
      "3       en  \n",
      "4       en  \n",
      "...    ...  \n",
      "15049   en  \n",
      "15050   en  \n",
      "15051   en  \n",
      "15052   en  \n",
      "15053   en  \n",
      "\n",
      "[15054 rows x 3 columns]\n"
     ]
    }
   ],
   "source": [
    "print()\n",
    "print(df_oct19)"
   ]
  },
  {
   "cell_type": "code",
   "execution_count": 17,
   "id": "decimal-undergraduate",
   "metadata": {},
   "outputs": [
    {
     "name": "stdout",
     "output_type": "stream",
     "text": [
      "                                                    Text        Created_at\n",
      "0       @Rightsatbirth: \"What he did was manipulative...  10/16/2019 22:33\n",
      "1      Happy 94th Birthday\\0\\x9f\\x8e\\x82 to @_AngelaL...  10/16/2019 22:33\n",
      "2       @RepLoriTrahan: Two years ago #MeToo woke up ...  10/16/2019 22:33\n",
      "3       @RituG15: #TimesUp #MeTooVoter  #MenToo #Meto...  10/16/2019 22:33\n",
      "4       @ambertamblyn: Months before MeToo broke us w...  10/16/2019 22:33\n",
      "...                                                  ...               ...\n",
      "15049  advocate4victim: #DYK: October 15 is the secon...  10/15/2019 17:46\n",
      "15050  TaranaBurke: Tonight, on the anniversary of #m...  10/15/2019 17:46\n",
      "15051  Meet Alki David: The self-appointed ambassador...  10/15/2019 17:46\n",
      "15052  IreneWoodbury: 2\\x80\\x9cGreat Read2\\x806will l...  10/15/2019 17:46\n",
      "15053  manny_ottawa: Canadians don2\\x80\\x99t TRUST Tr...  10/15/2019 17:46\n",
      "\n",
      "[15054 rows x 2 columns]\n"
     ]
    }
   ],
   "source": [
    "\n"
   ]
  },
  {
   "cell_type": "code",
   "execution_count": null,
   "id": "productive-overview",
   "metadata": {},
   "outputs": [],
   "source": []
  }
 ],
 "metadata": {
  "kernelspec": {
   "display_name": "Python 3",
   "language": "python",
   "name": "python3"
  },
  "language_info": {
   "codemirror_mode": {
    "name": "ipython",
    "version": 3
   },
   "file_extension": ".py",
   "mimetype": "text/x-python",
   "name": "python",
   "nbconvert_exporter": "python",
   "pygments_lexer": "ipython3",
   "version": "3.9.2"
  }
 },
 "nbformat": 4,
 "nbformat_minor": 5
}
